{
 "cells": [
  {
   "cell_type": "markdown",
   "metadata": {},
   "source": [
    "## Importation des librairies"
   ]
  },
  {
   "cell_type": "code",
   "execution_count": 1,
   "metadata": {
    "id": "t023u8t3QnNE"
   },
   "outputs": [],
   "source": [
    "import pandas as pd  # Importation de la bibliothèque pandas pour la manipulation des données\n",
    "import numpy as np   # Importation de la bibliothèque numpy pour les calculs numériques\n",
    "import matplotlib.pyplot as plt   # Importation de la bibliothèque matplotlib pour la visualisation des données\n",
    "import seaborn as sns   # Importation de la bibliothèque seaborn pour des visualisations plus avancées\n",
    "import warnings   # Importation du module warnings pour gérer les avertissements\n",
    "\n",
    "# Ignorer les avertissements\n",
    "warnings.filterwarnings('ignore')"
   ]
  },
  {
   "cell_type": "markdown",
   "metadata": {},
   "source": [
    "## Importation de la dataset"
   ]
  },
  {
   "cell_type": "code",
   "execution_count": 2,
   "metadata": {
    "id": "urhAKubKQnNH",
    "outputId": "d8037c35-add7-4d94-cfcc-23ec7db8821b"
   },
   "outputs": [
    {
     "name": "stdout",
     "output_type": "stream",
     "text": [
      "(10000, 14)\n"
     ]
    }
   ],
   "source": [
    "# Charger le fichier CSV dans un DataFrame\n",
    "dataset = pd.read_csv('Churn_Modelling.csv')\n",
    "\n",
    "# Afficher la forme du DataFrame (nombre de lignes, nombre de colonnes)\n",
    "print(dataset.shape)"
   ]
  },
  {
   "cell_type": "markdown",
   "metadata": {},
   "source": [
    "## Informations sur la dataset manipulée"
   ]
  },
  {
   "cell_type": "code",
   "execution_count": 3,
   "metadata": {
    "id": "mCbqAGWIQnNI",
    "outputId": "accce747-44e4-4412-f8b1-51458801a3c0"
   },
   "outputs": [
    {
     "name": "stdout",
     "output_type": "stream",
     "text": [
      "   RowNumber  CustomerId   Surname  CreditScore Geography  Gender  Age  \\\n",
      "0          1    15634602  Hargrave          619    France  Female   42   \n",
      "1          2    15647311      Hill          608     Spain  Female   41   \n",
      "2          3    15619304      Onio          502    France  Female   42   \n",
      "3          4    15701354      Boni          699    France  Female   39   \n",
      "4          5    15737888  Mitchell          850     Spain  Female   43   \n",
      "\n",
      "   Tenure    Balance  NumOfProducts  HasCrCard  IsActiveMember  \\\n",
      "0       2       0.00              1          1               1   \n",
      "1       1   83807.86              1          0               1   \n",
      "2       8  159660.80              3          1               0   \n",
      "3       1       0.00              2          0               0   \n",
      "4       2  125510.82              1          1               1   \n",
      "\n",
      "   EstimatedSalary  Exited  \n",
      "0        101348.88       1  \n",
      "1        112542.58       0  \n",
      "2        113931.57       1  \n",
      "3         93826.63       0  \n",
      "4         79084.10       0  \n"
     ]
    }
   ],
   "source": [
    "# Afficher les cinq premières lignes du DataFrame\n",
    "print(dataset.head())"
   ]
  },
  {
   "cell_type": "code",
   "execution_count": 4,
   "metadata": {
    "id": "VhqsJEeoQnNI",
    "outputId": "9ea47d75-f293-4cd3-9b06-8787b0aa71f2"
   },
   "outputs": [
    {
     "data": {
      "text/html": [
       "<div>\n",
       "<style scoped>\n",
       "    .dataframe tbody tr th:only-of-type {\n",
       "        vertical-align: middle;\n",
       "    }\n",
       "\n",
       "    .dataframe tbody tr th {\n",
       "        vertical-align: top;\n",
       "    }\n",
       "\n",
       "    .dataframe thead th {\n",
       "        text-align: right;\n",
       "    }\n",
       "</style>\n",
       "<table border=\"1\" class=\"dataframe\">\n",
       "  <thead>\n",
       "    <tr style=\"text-align: right;\">\n",
       "      <th></th>\n",
       "      <th>Surname</th>\n",
       "      <th>Geography</th>\n",
       "      <th>Gender</th>\n",
       "    </tr>\n",
       "  </thead>\n",
       "  <tbody>\n",
       "    <tr>\n",
       "      <th>count</th>\n",
       "      <td>10000</td>\n",
       "      <td>10000</td>\n",
       "      <td>10000</td>\n",
       "    </tr>\n",
       "    <tr>\n",
       "      <th>unique</th>\n",
       "      <td>2932</td>\n",
       "      <td>3</td>\n",
       "      <td>2</td>\n",
       "    </tr>\n",
       "    <tr>\n",
       "      <th>top</th>\n",
       "      <td>Smith</td>\n",
       "      <td>France</td>\n",
       "      <td>Male</td>\n",
       "    </tr>\n",
       "    <tr>\n",
       "      <th>freq</th>\n",
       "      <td>32</td>\n",
       "      <td>5014</td>\n",
       "      <td>5457</td>\n",
       "    </tr>\n",
       "  </tbody>\n",
       "</table>\n",
       "</div>"
      ],
      "text/plain": [
       "       Surname Geography Gender\n",
       "count    10000     10000  10000\n",
       "unique    2932         3      2\n",
       "top      Smith    France   Male\n",
       "freq        32      5014   5457"
      ]
     },
     "execution_count": 4,
     "metadata": {},
     "output_type": "execute_result"
    }
   ],
   "source": [
    "# Afficher les statistiques descriptives pour les colonnes de type 'object'\n",
    "dataset.describe(include='object')"
   ]
  },
  {
   "cell_type": "code",
   "execution_count": 5,
   "metadata": {
    "id": "hFIUFtGKQnNJ"
   },
   "outputs": [],
   "source": [
    "# Supprimer la colonne 'RowNumber' du DataFrame\n",
    "dataset = dataset.drop(['RowNumber'], axis=1)"
   ]
  },
  {
   "cell_type": "code",
   "execution_count": 6,
   "metadata": {
    "id": "zQJqtznMQnNJ"
   },
   "outputs": [],
   "source": [
    "# Supprimer les colonnes 'CustomerId' et 'Surname' du DataFrame\n",
    "dataset = dataset.drop(['CustomerId', 'Surname'], axis=1)"
   ]
  },
  {
   "cell_type": "code",
   "execution_count": 7,
   "metadata": {
    "id": "24GzVXeKQnNJ",
    "outputId": "44ff7868-c4d4-4040-bd4c-fc1e6ddcf248"
   },
   "outputs": [
    {
     "data": {
      "text/html": [
       "<div>\n",
       "<style scoped>\n",
       "    .dataframe tbody tr th:only-of-type {\n",
       "        vertical-align: middle;\n",
       "    }\n",
       "\n",
       "    .dataframe tbody tr th {\n",
       "        vertical-align: top;\n",
       "    }\n",
       "\n",
       "    .dataframe thead th {\n",
       "        text-align: right;\n",
       "    }\n",
       "</style>\n",
       "<table border=\"1\" class=\"dataframe\">\n",
       "  <thead>\n",
       "    <tr style=\"text-align: right;\">\n",
       "      <th></th>\n",
       "      <th>CreditScore</th>\n",
       "      <th>Geography</th>\n",
       "      <th>Gender</th>\n",
       "      <th>Age</th>\n",
       "      <th>Tenure</th>\n",
       "      <th>Balance</th>\n",
       "      <th>NumOfProducts</th>\n",
       "      <th>HasCrCard</th>\n",
       "      <th>IsActiveMember</th>\n",
       "      <th>EstimatedSalary</th>\n",
       "      <th>Exited</th>\n",
       "    </tr>\n",
       "  </thead>\n",
       "  <tbody>\n",
       "    <tr>\n",
       "      <th>0</th>\n",
       "      <td>619</td>\n",
       "      <td>France</td>\n",
       "      <td>Female</td>\n",
       "      <td>42</td>\n",
       "      <td>2</td>\n",
       "      <td>0.00</td>\n",
       "      <td>1</td>\n",
       "      <td>1</td>\n",
       "      <td>1</td>\n",
       "      <td>101348.88</td>\n",
       "      <td>1</td>\n",
       "    </tr>\n",
       "    <tr>\n",
       "      <th>1</th>\n",
       "      <td>608</td>\n",
       "      <td>Spain</td>\n",
       "      <td>Female</td>\n",
       "      <td>41</td>\n",
       "      <td>1</td>\n",
       "      <td>83807.86</td>\n",
       "      <td>1</td>\n",
       "      <td>0</td>\n",
       "      <td>1</td>\n",
       "      <td>112542.58</td>\n",
       "      <td>0</td>\n",
       "    </tr>\n",
       "    <tr>\n",
       "      <th>2</th>\n",
       "      <td>502</td>\n",
       "      <td>France</td>\n",
       "      <td>Female</td>\n",
       "      <td>42</td>\n",
       "      <td>8</td>\n",
       "      <td>159660.80</td>\n",
       "      <td>3</td>\n",
       "      <td>1</td>\n",
       "      <td>0</td>\n",
       "      <td>113931.57</td>\n",
       "      <td>1</td>\n",
       "    </tr>\n",
       "    <tr>\n",
       "      <th>3</th>\n",
       "      <td>699</td>\n",
       "      <td>France</td>\n",
       "      <td>Female</td>\n",
       "      <td>39</td>\n",
       "      <td>1</td>\n",
       "      <td>0.00</td>\n",
       "      <td>2</td>\n",
       "      <td>0</td>\n",
       "      <td>0</td>\n",
       "      <td>93826.63</td>\n",
       "      <td>0</td>\n",
       "    </tr>\n",
       "    <tr>\n",
       "      <th>4</th>\n",
       "      <td>850</td>\n",
       "      <td>Spain</td>\n",
       "      <td>Female</td>\n",
       "      <td>43</td>\n",
       "      <td>2</td>\n",
       "      <td>125510.82</td>\n",
       "      <td>1</td>\n",
       "      <td>1</td>\n",
       "      <td>1</td>\n",
       "      <td>79084.10</td>\n",
       "      <td>0</td>\n",
       "    </tr>\n",
       "  </tbody>\n",
       "</table>\n",
       "</div>"
      ],
      "text/plain": [
       "   CreditScore Geography  Gender  Age  Tenure    Balance  NumOfProducts  \\\n",
       "0          619    France  Female   42       2       0.00              1   \n",
       "1          608     Spain  Female   41       1   83807.86              1   \n",
       "2          502    France  Female   42       8  159660.80              3   \n",
       "3          699    France  Female   39       1       0.00              2   \n",
       "4          850     Spain  Female   43       2  125510.82              1   \n",
       "\n",
       "   HasCrCard  IsActiveMember  EstimatedSalary  Exited  \n",
       "0          1               1        101348.88       1  \n",
       "1          0               1        112542.58       0  \n",
       "2          1               0        113931.57       1  \n",
       "3          0               0         93826.63       0  \n",
       "4          1               1         79084.10       0  "
      ]
     },
     "execution_count": 7,
     "metadata": {},
     "output_type": "execute_result"
    }
   ],
   "source": [
    "dataset.head()"
   ]
  },
  {
   "cell_type": "code",
   "execution_count": 8,
   "metadata": {
    "id": "TEzW3C_WQnNJ",
    "outputId": "75f0eb06-84f0-44b2-c59b-754d9f4fc7d2"
   },
   "outputs": [
    {
     "data": {
      "text/plain": [
       "France     5014\n",
       "Germany    2509\n",
       "Spain      2477\n",
       "Name: Geography, dtype: int64"
      ]
     },
     "execution_count": 8,
     "metadata": {},
     "output_type": "execute_result"
    }
   ],
   "source": [
    "# Compter le nombre d'occurrences de chaque valeur unique dans la colonne 'Geography'\n",
    "dataset.Geography.value_counts()"
   ]
  },
  {
   "cell_type": "code",
   "execution_count": 9,
   "metadata": {
    "id": "CwJAPwZXQnNK",
    "outputId": "af90445a-8227-4777-c7ec-514f9be12f26"
   },
   "outputs": [
    {
     "data": {
      "text/plain": [
       "Male      5457\n",
       "Female    4543\n",
       "Name: Gender, dtype: int64"
      ]
     },
     "execution_count": 9,
     "metadata": {},
     "output_type": "execute_result"
    }
   ],
   "source": [
    "# Compter le nombre d'occurrences de chaque valeur unique dans la colonne 'Gender'\n",
    "dataset.Gender.value_counts()"
   ]
  },
  {
   "cell_type": "code",
   "execution_count": 10,
   "metadata": {
    "id": "kGjXsscdQnNK",
    "outputId": "7859a951-1fd4-4d8c-d04f-cc3bbc2c5442"
   },
   "outputs": [
    {
     "data": {
      "text/plain": [
       "0    7963\n",
       "1    2037\n",
       "Name: Exited, dtype: int64"
      ]
     },
     "execution_count": 10,
     "metadata": {},
     "output_type": "execute_result"
    }
   ],
   "source": [
    "# Compter le nombre d'occurrences de chaque valeur unique dans la colonne 'Exited'\n",
    "dataset.Exited.value_counts()"
   ]
  },
  {
   "cell_type": "code",
   "execution_count": 11,
   "metadata": {
    "id": "9y9e1kcvQnNK",
    "outputId": "4d8f2ddb-e3ad-43b2-d507-d9e825187d6a"
   },
   "outputs": [
    {
     "data": {
      "text/plain": [
       "CreditScore        0\n",
       "Geography          0\n",
       "Gender             0\n",
       "Age                0\n",
       "Tenure             0\n",
       "Balance            0\n",
       "NumOfProducts      0\n",
       "HasCrCard          0\n",
       "IsActiveMember     0\n",
       "EstimatedSalary    0\n",
       "Exited             0\n",
       "dtype: int64"
      ]
     },
     "execution_count": 11,
     "metadata": {},
     "output_type": "execute_result"
    }
   ],
   "source": [
    "# Vérifier les valeurs nulles dans chaque colonne du DataFrame\n",
    "dataset.isnull().sum()"
   ]
  },
  {
   "cell_type": "code",
   "execution_count": 12,
   "metadata": {
    "id": "mGNhU94YQnNK",
    "outputId": "822bd11b-b948-4785-acad-7996b2ad6547"
   },
   "outputs": [
    {
     "data": {
      "text/html": [
       "<div>\n",
       "<style scoped>\n",
       "    .dataframe tbody tr th:only-of-type {\n",
       "        vertical-align: middle;\n",
       "    }\n",
       "\n",
       "    .dataframe tbody tr th {\n",
       "        vertical-align: top;\n",
       "    }\n",
       "\n",
       "    .dataframe thead th {\n",
       "        text-align: right;\n",
       "    }\n",
       "</style>\n",
       "<table border=\"1\" class=\"dataframe\">\n",
       "  <thead>\n",
       "    <tr style=\"text-align: right;\">\n",
       "      <th></th>\n",
       "      <th>CreditScore</th>\n",
       "      <th>Age</th>\n",
       "      <th>Tenure</th>\n",
       "      <th>Balance</th>\n",
       "      <th>NumOfProducts</th>\n",
       "      <th>HasCrCard</th>\n",
       "      <th>IsActiveMember</th>\n",
       "      <th>EstimatedSalary</th>\n",
       "      <th>Exited</th>\n",
       "    </tr>\n",
       "  </thead>\n",
       "  <tbody>\n",
       "    <tr>\n",
       "      <th>count</th>\n",
       "      <td>10000.000000</td>\n",
       "      <td>10000.000000</td>\n",
       "      <td>10000.000000</td>\n",
       "      <td>10000.000000</td>\n",
       "      <td>10000.000000</td>\n",
       "      <td>10000.00000</td>\n",
       "      <td>10000.000000</td>\n",
       "      <td>10000.000000</td>\n",
       "      <td>10000.000000</td>\n",
       "    </tr>\n",
       "    <tr>\n",
       "      <th>mean</th>\n",
       "      <td>650.528800</td>\n",
       "      <td>38.921800</td>\n",
       "      <td>5.012800</td>\n",
       "      <td>76485.889288</td>\n",
       "      <td>1.530200</td>\n",
       "      <td>0.70550</td>\n",
       "      <td>0.515100</td>\n",
       "      <td>100090.239881</td>\n",
       "      <td>0.203700</td>\n",
       "    </tr>\n",
       "    <tr>\n",
       "      <th>std</th>\n",
       "      <td>96.653299</td>\n",
       "      <td>10.487806</td>\n",
       "      <td>2.892174</td>\n",
       "      <td>62397.405202</td>\n",
       "      <td>0.581654</td>\n",
       "      <td>0.45584</td>\n",
       "      <td>0.499797</td>\n",
       "      <td>57510.492818</td>\n",
       "      <td>0.402769</td>\n",
       "    </tr>\n",
       "    <tr>\n",
       "      <th>min</th>\n",
       "      <td>350.000000</td>\n",
       "      <td>18.000000</td>\n",
       "      <td>0.000000</td>\n",
       "      <td>0.000000</td>\n",
       "      <td>1.000000</td>\n",
       "      <td>0.00000</td>\n",
       "      <td>0.000000</td>\n",
       "      <td>11.580000</td>\n",
       "      <td>0.000000</td>\n",
       "    </tr>\n",
       "    <tr>\n",
       "      <th>25%</th>\n",
       "      <td>584.000000</td>\n",
       "      <td>32.000000</td>\n",
       "      <td>3.000000</td>\n",
       "      <td>0.000000</td>\n",
       "      <td>1.000000</td>\n",
       "      <td>0.00000</td>\n",
       "      <td>0.000000</td>\n",
       "      <td>51002.110000</td>\n",
       "      <td>0.000000</td>\n",
       "    </tr>\n",
       "    <tr>\n",
       "      <th>50%</th>\n",
       "      <td>652.000000</td>\n",
       "      <td>37.000000</td>\n",
       "      <td>5.000000</td>\n",
       "      <td>97198.540000</td>\n",
       "      <td>1.000000</td>\n",
       "      <td>1.00000</td>\n",
       "      <td>1.000000</td>\n",
       "      <td>100193.915000</td>\n",
       "      <td>0.000000</td>\n",
       "    </tr>\n",
       "    <tr>\n",
       "      <th>75%</th>\n",
       "      <td>718.000000</td>\n",
       "      <td>44.000000</td>\n",
       "      <td>7.000000</td>\n",
       "      <td>127644.240000</td>\n",
       "      <td>2.000000</td>\n",
       "      <td>1.00000</td>\n",
       "      <td>1.000000</td>\n",
       "      <td>149388.247500</td>\n",
       "      <td>0.000000</td>\n",
       "    </tr>\n",
       "    <tr>\n",
       "      <th>max</th>\n",
       "      <td>850.000000</td>\n",
       "      <td>92.000000</td>\n",
       "      <td>10.000000</td>\n",
       "      <td>250898.090000</td>\n",
       "      <td>4.000000</td>\n",
       "      <td>1.00000</td>\n",
       "      <td>1.000000</td>\n",
       "      <td>199992.480000</td>\n",
       "      <td>1.000000</td>\n",
       "    </tr>\n",
       "  </tbody>\n",
       "</table>\n",
       "</div>"
      ],
      "text/plain": [
       "        CreditScore           Age        Tenure        Balance  NumOfProducts  \\\n",
       "count  10000.000000  10000.000000  10000.000000   10000.000000   10000.000000   \n",
       "mean     650.528800     38.921800      5.012800   76485.889288       1.530200   \n",
       "std       96.653299     10.487806      2.892174   62397.405202       0.581654   \n",
       "min      350.000000     18.000000      0.000000       0.000000       1.000000   \n",
       "25%      584.000000     32.000000      3.000000       0.000000       1.000000   \n",
       "50%      652.000000     37.000000      5.000000   97198.540000       1.000000   \n",
       "75%      718.000000     44.000000      7.000000  127644.240000       2.000000   \n",
       "max      850.000000     92.000000     10.000000  250898.090000       4.000000   \n",
       "\n",
       "         HasCrCard  IsActiveMember  EstimatedSalary        Exited  \n",
       "count  10000.00000    10000.000000     10000.000000  10000.000000  \n",
       "mean       0.70550        0.515100    100090.239881      0.203700  \n",
       "std        0.45584        0.499797     57510.492818      0.402769  \n",
       "min        0.00000        0.000000        11.580000      0.000000  \n",
       "25%        0.00000        0.000000     51002.110000      0.000000  \n",
       "50%        1.00000        1.000000    100193.915000      0.000000  \n",
       "75%        1.00000        1.000000    149388.247500      0.000000  \n",
       "max        1.00000        1.000000    199992.480000      1.000000  "
      ]
     },
     "execution_count": 12,
     "metadata": {},
     "output_type": "execute_result"
    }
   ],
   "source": [
    "dataset.describe()"
   ]
  },
  {
   "cell_type": "code",
   "execution_count": 13,
   "metadata": {
    "id": "ovYnlTYUQnNL",
    "outputId": "7ec63a9c-5689-4f2b-c5d0-00bd2277198a"
   },
   "outputs": [
    {
     "data": {
      "text/html": [
       "<div>\n",
       "<style scoped>\n",
       "    .dataframe tbody tr th:only-of-type {\n",
       "        vertical-align: middle;\n",
       "    }\n",
       "\n",
       "    .dataframe tbody tr th {\n",
       "        vertical-align: top;\n",
       "    }\n",
       "\n",
       "    .dataframe thead th {\n",
       "        text-align: right;\n",
       "    }\n",
       "</style>\n",
       "<table border=\"1\" class=\"dataframe\">\n",
       "  <thead>\n",
       "    <tr style=\"text-align: right;\">\n",
       "      <th></th>\n",
       "      <th>Geography</th>\n",
       "      <th>Gender</th>\n",
       "    </tr>\n",
       "  </thead>\n",
       "  <tbody>\n",
       "    <tr>\n",
       "      <th>count</th>\n",
       "      <td>10000</td>\n",
       "      <td>10000</td>\n",
       "    </tr>\n",
       "    <tr>\n",
       "      <th>unique</th>\n",
       "      <td>3</td>\n",
       "      <td>2</td>\n",
       "    </tr>\n",
       "    <tr>\n",
       "      <th>top</th>\n",
       "      <td>France</td>\n",
       "      <td>Male</td>\n",
       "    </tr>\n",
       "    <tr>\n",
       "      <th>freq</th>\n",
       "      <td>5014</td>\n",
       "      <td>5457</td>\n",
       "    </tr>\n",
       "  </tbody>\n",
       "</table>\n",
       "</div>"
      ],
      "text/plain": [
       "       Geography Gender\n",
       "count      10000  10000\n",
       "unique         3      2\n",
       "top       France   Male\n",
       "freq        5014   5457"
      ]
     },
     "execution_count": 13,
     "metadata": {},
     "output_type": "execute_result"
    }
   ],
   "source": [
    "# Afficher les statistiques descriptives pour les colonnes de type 'object'\n",
    "dataset.describe(include='object')"
   ]
  },
  {
   "cell_type": "code",
   "execution_count": 14,
   "metadata": {
    "id": "jEqBg3y1QnNL",
    "outputId": "390c4178-fac6-49d3-ae75-917a711b5d9b"
   },
   "outputs": [
    {
     "name": "stdout",
     "output_type": "stream",
     "text": [
      "<class 'pandas.core.frame.DataFrame'>\n",
      "RangeIndex: 10000 entries, 0 to 9999\n",
      "Data columns (total 11 columns):\n",
      " #   Column           Non-Null Count  Dtype  \n",
      "---  ------           --------------  -----  \n",
      " 0   CreditScore      10000 non-null  int64  \n",
      " 1   Geography        10000 non-null  object \n",
      " 2   Gender           10000 non-null  object \n",
      " 3   Age              10000 non-null  int64  \n",
      " 4   Tenure           10000 non-null  int64  \n",
      " 5   Balance          10000 non-null  float64\n",
      " 6   NumOfProducts    10000 non-null  int64  \n",
      " 7   HasCrCard        10000 non-null  int64  \n",
      " 8   IsActiveMember   10000 non-null  int64  \n",
      " 9   EstimatedSalary  10000 non-null  float64\n",
      " 10  Exited           10000 non-null  int64  \n",
      "dtypes: float64(2), int64(7), object(2)\n",
      "memory usage: 859.5+ KB\n"
     ]
    }
   ],
   "source": [
    "# Afficher les informations détaillées sur le DataFrame\n",
    "dataset.info()"
   ]
  },
  {
   "cell_type": "markdown",
   "metadata": {
    "id": "I1Ed8pneQnNM"
   },
   "source": [
    "# Valeurs abérantes"
   ]
  },
  {
   "cell_type": "markdown",
   "metadata": {},
   "source": [
    "### BoxPlot"
   ]
  },
  {
   "cell_type": "code",
   "execution_count": 15,
   "metadata": {
    "id": "1A21vXABQnNO",
    "outputId": "f6b17cbe-b70d-438b-c6d8-ad9302699571"
   },
   "outputs": [
    {
     "data": {
      "image/png": "[encoded data removed]",
      "text/plain": [
       "<Figure size 720x432 with 1 Axes>"
      ]
     },
     "metadata": {},
     "output_type": "display_data"
    }
   ],
   "source": [
    "sns.set_style(\"darkgrid\")   # Définition du style du graphique\n",
    "plt.figure(figsize=(10, 6))   # Définition de la taille de la figure\n",
    "# Création du boxplot avec les données de dataset, une palette de couleurs \"colorblind\", et une orientation horizontale\n",
    "sns.boxplot(data=dataset, palette=\"colorblind\", orient='h')\n",
    "plt.title(\"BoxPlot des variables\")   # Ajout du titre du graphique\n",
    "plt.xlabel(\"Variables\")   # Ajout de l'étiquette de l'axe des x\n",
    "plt.ylabel(\"Valeurs\")   # Ajout de l'étiquette de l'axe des y\n",
    "plt.tight_layout()   # Ajustement automatique des sous-plots pour éviter les chevauchements\n",
    "plt.show()   # Affichage du graphique"
   ]
  },
  {
   "cell_type": "code",
   "execution_count": 16,
   "metadata": {
    "id": "S_yB1bSYQnNO",
    "outputId": "5339d038-ec7b-4491-9297-b5ffcf1f32bb"
   },
   "outputs": [
    {
     "data": {
      "image/png": "[encoded data removed]",
      "text/plain": [
       "<Figure size 720x432 with 1 Axes>"
      ]
     },
     "metadata": {},
     "output_type": "display_data"
    }
   ],
   "source": [
    "sns.set_style(\"darkgrid\")   # Définition du style du graphique\n",
    "\n",
    "plt.figure(figsize=(10, 6))   # Définition de la taille de la figure\n",
    "\n",
    "# Création du boxplot avec les données de la colonne 'CreditScore' de dataset, une palette de couleurs \"colorblind\", et une orientation horizontale\n",
    "sns.boxplot(data=dataset.CreditScore, palette=\"colorblind\", orient='h')\n",
    "\n",
    "plt.title(\"BoxPlot des variables\")   # Ajout du titre du graphique\n",
    "plt.xlabel(\"Variables\")   # Ajout de l'étiquette de l'axe des x\n",
    "plt.ylabel(\"Valeurs\")   # Ajout de l'étiquette de l'axe des y\n",
    "plt.tight_layout()   # Ajustement automatique des sous-plots pour éviter les chevauchements\n",
    "plt.show()   # Affichage du graphique"
   ]
  },
  {
   "cell_type": "code",
   "execution_count": 17,
   "metadata": {
    "id": "ZiHroycvQnNP",
    "outputId": "1a1852e7-bd50-483b-bd92-8e5d3bf7d5aa"
   },
   "outputs": [
    {
     "data": {
      "image/png": "[encoded data removed]",
      "text/plain": [
       "<Figure size 720x432 with 1 Axes>"
      ]
     },
     "metadata": {},
     "output_type": "display_data"
    }
   ],
   "source": [
    "sns.set_style(\"darkgrid\")\n",
    "plt.figure(figsize=(10, 6))\n",
    "sns.boxplot(data=dataset.Age, palette=\"colorblind\", orient='h')\n",
    "plt.title(\"BoxPlot des variables\")\n",
    "plt.xlabel(\"Variables\")\n",
    "plt.ylabel(\"Valeurs\")\n",
    "plt.tight_layout()\n",
    "plt.show()"
   ]
  },
  {
   "cell_type": "code",
   "execution_count": 18,
   "metadata": {
    "id": "DxaFCYLLQnNQ",
    "outputId": "066071c3-1c55-4b2e-a954-574f7937b588"
   },
   "outputs": [
    {
     "data": {
      "image/png": "[encoded data removed]",
      "text/plain": [
       "<Figure size 720x432 with 1 Axes>"
      ]
     },
     "metadata": {},
     "output_type": "display_data"
    }
   ],
   "source": [
    "sns.set_style(\"darkgrid\")\n",
    "plt.figure(figsize=(10, 6))\n",
    "sns.boxplot(data=dataset.Tenure, palette=\"colorblind\", orient='h')\n",
    "plt.title(\"BoxPlot des variables\")\n",
    "plt.xlabel(\"Variables\")\n",
    "plt.ylabel(\"Valeurs\")\n",
    "plt.tight_layout()\n",
    "plt.show()"
   ]
  },
  {
   "cell_type": "code",
   "execution_count": 19,
   "metadata": {
    "id": "ZBsrPCR3QnNQ",
    "outputId": "bd3c0a08-c609-4afa-f141-7b9c512258d1"
   },
   "outputs": [
    {
     "data": {
      "image/png": "[encoded data removed]",
      "text/plain": [
       "<Figure size 720x432 with 1 Axes>"
      ]
     },
     "metadata": {},
     "output_type": "display_data"
    }
   ],
   "source": [
    "\n",
    "sns.set_style(\"darkgrid\")\n",
    "plt.figure(figsize=(10, 6))\n",
    "sns.boxplot(data=dataset.NumOfProducts, palette=\"colorblind\", orient='h')\n",
    "plt.title(\"BoxPlot des variables\")\n",
    "plt.xlabel(\"Variables\")\n",
    "plt.ylabel(\"Valeurs\")\n",
    "plt.tight_layout()\n",
    "plt.show()"
   ]
  },
  {
   "cell_type": "code",
   "execution_count": 20,
   "metadata": {
    "id": "dcMqWCJ6QnNR",
    "outputId": "ae7e2788-52be-47ed-bf6f-8897916ffd8e"
   },
   "outputs": [
    {
     "data": {
      "image/png": "[encoded data removed]",
      "text/plain": [
       "<Figure size 720x432 with 1 Axes>"
      ]
     },
     "metadata": {},
     "output_type": "display_data"
    }
   ],
   "source": [
    "sns.set_style(\"darkgrid\")\n",
    "plt.figure(figsize=(10, 6))\n",
    "sns.boxplot(data=dataset.Exited, palette=\"colorblind\", orient='h')\n",
    "plt.title(\"BoxPlot des variables\")\n",
    "plt.xlabel(\"Variables\")\n",
    "plt.ylabel(\"Valeurs\")\n",
    "plt.tight_layout()\n",
    "plt.show()"
   ]
  },
  {
   "cell_type": "code",
   "execution_count": 21,
   "metadata": {
    "id": "k11GIfrLQnNS"
   },
   "outputs": [],
   "source": [
    "# Calcul du premier quartile (Q1)\n",
    "q1 = dataset.NumOfProducts.quantile(0.25)\n",
    "\n",
    "# Calcul du troisième quartile (Q3)\n",
    "q3 = dataset.NumOfProducts.quantile(0.75)\n",
    "\n",
    "# Calcul de l'écart interquartile (IQR)\n",
    "IQR = q3 - q1\n",
    "\n",
    "# Calcul des bornes inférieure et supérieure pour détecter les valeurs aberrantes\n",
    "borne_inf = q1 - 1.5 * IQR\n",
    "borne_sup = q3 + 1.5 * IQR\n",
    "\n",
    "# Filtrage des données pour ne garder que celles qui sont dans la plage acceptable\n",
    "dataset = dataset[dataset['NumOfProducts'] <= borne_sup]\n",
    "dataset = dataset[dataset['NumOfProducts'] >= borne_inf]"
   ]
  },
  {
   "cell_type": "code",
   "execution_count": 22,
   "metadata": {
    "id": "Ei1tf_PqQnNS"
   },
   "outputs": [],
   "source": [
    "# Calcul du premier quartile (Q1)\n",
    "q1 = dataset.CreditScore.quantile(0.25)\n",
    "\n",
    "# Calcul du troisième quartile (Q3)\n",
    "q3 = dataset.CreditScore.quantile(0.75)\n",
    "\n",
    "# Calcul de l'écart interquartile (IQR)\n",
    "IQR = q3 - q1\n",
    "\n",
    "# Calcul des bornes inférieure et supérieure pour détecter les valeurs aberrantes\n",
    "borne_inf = q1 - 1.5 * IQR\n",
    "borne_sup = q3 + 1.5 * IQR\n",
    "\n",
    "# Filtrage des données pour ne garder que celles qui sont dans la plage acceptable\n",
    "dataset = dataset[dataset['CreditScore'] <= borne_sup]\n",
    "dataset = dataset[dataset['CreditScore'] >= borne_inf]"
   ]
  },
  {
   "cell_type": "markdown",
   "metadata": {},
   "source": [
    "## Encodage avec Dummies"
   ]
  },
  {
   "cell_type": "code",
   "execution_count": 23,
   "metadata": {
    "id": "PHJ6gPHxQnNT"
   },
   "outputs": [],
   "source": [
    "# Sélection des dix premières colonnes comme variables indépendantes (X)\n",
    "x = dataset.iloc[:, 0:10]\n",
    "\n",
    "# Sélection de la onzième colonne comme variable dépendante (Y)\n",
    "y = dataset.iloc[:, 10]"
   ]
  },
  {
   "cell_type": "code",
   "execution_count": 24,
   "metadata": {
    "id": "cbLMDZQ1QnNT"
   },
   "outputs": [],
   "source": [
    "# Appliquer l'encodage one-hot aux variables catégorielles dans le DataFrame x\n",
    "x = pd.get_dummies(data=x, drop_first=True)"
   ]
  },
  {
   "cell_type": "code",
   "execution_count": 25,
   "metadata": {
    "id": "CFRcoSDvQnNT",
    "outputId": "d5790d7c-44b6-41be-8994-4e3233130c0e"
   },
   "outputs": [
    {
     "data": {
      "text/html": [
       "<div>\n",
       "<style scoped>\n",
       "    .dataframe tbody tr th:only-of-type {\n",
       "        vertical-align: middle;\n",
       "    }\n",
       "\n",
       "    .dataframe tbody tr th {\n",
       "        vertical-align: top;\n",
       "    }\n",
       "\n",
       "    .dataframe thead th {\n",
       "        text-align: right;\n",
       "    }\n",
       "</style>\n",
       "<table border=\"1\" class=\"dataframe\">\n",
       "  <thead>\n",
       "    <tr style=\"text-align: right;\">\n",
       "      <th></th>\n",
       "      <th>CreditScore</th>\n",
       "      <th>Age</th>\n",
       "      <th>Tenure</th>\n",
       "      <th>Balance</th>\n",
       "      <th>NumOfProducts</th>\n",
       "      <th>HasCrCard</th>\n",
       "      <th>IsActiveMember</th>\n",
       "      <th>EstimatedSalary</th>\n",
       "      <th>Geography_Germany</th>\n",
       "      <th>Geography_Spain</th>\n",
       "      <th>Gender_Male</th>\n",
       "    </tr>\n",
       "  </thead>\n",
       "  <tbody>\n",
       "    <tr>\n",
       "      <th>0</th>\n",
       "      <td>619</td>\n",
       "      <td>42</td>\n",
       "      <td>2</td>\n",
       "      <td>0.00</td>\n",
       "      <td>1</td>\n",
       "      <td>1</td>\n",
       "      <td>1</td>\n",
       "      <td>101348.88</td>\n",
       "      <td>0</td>\n",
       "      <td>0</td>\n",
       "      <td>0</td>\n",
       "    </tr>\n",
       "    <tr>\n",
       "      <th>1</th>\n",
       "      <td>608</td>\n",
       "      <td>41</td>\n",
       "      <td>1</td>\n",
       "      <td>83807.86</td>\n",
       "      <td>1</td>\n",
       "      <td>0</td>\n",
       "      <td>1</td>\n",
       "      <td>112542.58</td>\n",
       "      <td>0</td>\n",
       "      <td>1</td>\n",
       "      <td>0</td>\n",
       "    </tr>\n",
       "    <tr>\n",
       "      <th>2</th>\n",
       "      <td>502</td>\n",
       "      <td>42</td>\n",
       "      <td>8</td>\n",
       "      <td>159660.80</td>\n",
       "      <td>3</td>\n",
       "      <td>1</td>\n",
       "      <td>0</td>\n",
       "      <td>113931.57</td>\n",
       "      <td>0</td>\n",
       "      <td>0</td>\n",
       "      <td>0</td>\n",
       "    </tr>\n",
       "    <tr>\n",
       "      <th>3</th>\n",
       "      <td>699</td>\n",
       "      <td>39</td>\n",
       "      <td>1</td>\n",
       "      <td>0.00</td>\n",
       "      <td>2</td>\n",
       "      <td>0</td>\n",
       "      <td>0</td>\n",
       "      <td>93826.63</td>\n",
       "      <td>0</td>\n",
       "      <td>0</td>\n",
       "      <td>0</td>\n",
       "    </tr>\n",
       "    <tr>\n",
       "      <th>4</th>\n",
       "      <td>850</td>\n",
       "      <td>43</td>\n",
       "      <td>2</td>\n",
       "      <td>125510.82</td>\n",
       "      <td>1</td>\n",
       "      <td>1</td>\n",
       "      <td>1</td>\n",
       "      <td>79084.10</td>\n",
       "      <td>0</td>\n",
       "      <td>1</td>\n",
       "      <td>0</td>\n",
       "    </tr>\n",
       "  </tbody>\n",
       "</table>\n",
       "</div>"
      ],
      "text/plain": [
       "   CreditScore  Age  Tenure    Balance  NumOfProducts  HasCrCard  \\\n",
       "0          619   42       2       0.00              1          1   \n",
       "1          608   41       1   83807.86              1          0   \n",
       "2          502   42       8  159660.80              3          1   \n",
       "3          699   39       1       0.00              2          0   \n",
       "4          850   43       2  125510.82              1          1   \n",
       "\n",
       "   IsActiveMember  EstimatedSalary  Geography_Germany  Geography_Spain  \\\n",
       "0               1        101348.88                  0                0   \n",
       "1               1        112542.58                  0                1   \n",
       "2               0        113931.57                  0                0   \n",
       "3               0         93826.63                  0                0   \n",
       "4               1         79084.10                  0                1   \n",
       "\n",
       "   Gender_Male  \n",
       "0            0  \n",
       "1            0  \n",
       "2            0  \n",
       "3            0  \n",
       "4            0  "
      ]
     },
     "execution_count": 25,
     "metadata": {},
     "output_type": "execute_result"
    }
   ],
   "source": [
    "x.head()"
   ]
  },
  {
   "cell_type": "code",
   "execution_count": 26,
   "metadata": {
    "id": "hzjT2y5PQnNT",
    "outputId": "8c24cd67-0d99-4ebe-ce72-ae22f6218587"
   },
   "outputs": [
    {
     "data": {
      "text/plain": [
       "<AxesSubplot:>"
      ]
     },
     "execution_count": 26,
     "metadata": {},
     "output_type": "execute_result"
    },
    {
     "data": {
      "image/png": "[encoded data removed]",
      "text/plain": [
       "<Figure size 432x288 with 1 Axes>"
      ]
     },
     "metadata": {},
     "output_type": "display_data"
    }
   ],
   "source": [
    "# Créer un histogramme de la colonne 'CreditScore' dans le DataFrame x\n",
    "x.CreditScore.hist()"
   ]
  },
  {
   "cell_type": "code",
   "execution_count": 27,
   "metadata": {
    "id": "vrEgAuHVQnNU",
    "outputId": "799f0693-3db5-430a-bc42-ad68eb556359"
   },
   "outputs": [
    {
     "data": {
      "text/plain": [
       "array([[<AxesSubplot:title={'center':'CreditScore'}>,\n",
       "        <AxesSubplot:title={'center':'Age'}>,\n",
       "        <AxesSubplot:title={'center':'Tenure'}>],\n",
       "       [<AxesSubplot:title={'center':'Balance'}>,\n",
       "        <AxesSubplot:title={'center':'NumOfProducts'}>,\n",
       "        <AxesSubplot:title={'center':'HasCrCard'}>],\n",
       "       [<AxesSubplot:title={'center':'IsActiveMember'}>,\n",
       "        <AxesSubplot:title={'center':'EstimatedSalary'}>,\n",
       "        <AxesSubplot:title={'center':'Geography_Germany'}>],\n",
       "       [<AxesSubplot:title={'center':'Geography_Spain'}>,\n",
       "        <AxesSubplot:title={'center':'Gender_Male'}>, <AxesSubplot:>]],\n",
       "      dtype=object)"
      ]
     },
     "execution_count": 27,
     "metadata": {},
     "output_type": "execute_result"
    },
    {
     "data": {
      "image/png": "[encoded data removed]",
      "text/plain": [
       "<Figure size 1440x1440 with 12 Axes>"
      ]
     },
     "metadata": {},
     "output_type": "display_data"
    }
   ],
   "source": [
    "# Créer des histogrammes pour chaque colonne du DataFrame x\n",
    "x.hist(figsize=(20, 20))"
   ]
  },
  {
   "cell_type": "markdown",
   "metadata": {},
   "source": [
    "## traitement de Modèle"
   ]
  },
  {
   "cell_type": "markdown",
   "metadata": {},
   "source": [
    "### Splitting Data "
   ]
  },
  {
   "cell_type": "code",
   "execution_count": 28,
   "metadata": {
    "id": "Corzk_uxQnNU"
   },
   "outputs": [],
   "source": [
    "from sklearn.model_selection import train_test_split   # Importation de la fonction train_test_split de scikit-learn\n",
    "\n",
    "# Séparation des données en ensembles d'entraînement et de test\n",
    "# test_size=0.2 : 20% des données sont utilisées pour le test, le reste (80%) pour l'entraînement\n",
    "\n",
    "x_train,x_test,y_train,y_test=train_test_split(x,y,test_size=0.2,random_state=0)"
   ]
  },
  {
   "cell_type": "markdown",
   "metadata": {},
   "source": [
    "### Mise à echelle"
   ]
  },
  {
   "cell_type": "code",
   "execution_count": 29,
   "metadata": {
    "id": "mKUdBO9VQnNU"
   },
   "outputs": [],
   "source": [
    "from sklearn.preprocessing import MinMaxScaler   # Importation de la classe MinMaxScaler de scikit-learn\n",
    "\n",
    "# Initialisation d'un objet MinMaxScaler\n",
    "scaler = MinMaxScaler()\n",
    "\n",
    "# Normalisation des données d'entraînement et de test en utilisant MinMaxScaler\n",
    "# x_train_sc : données d'entraînement normalisées\n",
    "# x_test_sc : données de test normalisées\n",
    "x_train_sc = scaler.fit_transform(x_train)\n",
    "x_test_sc = scaler.transform(x_test)"
   ]
  },
  {
   "cell_type": "markdown",
   "metadata": {
    "id": "2OewOw6bQnNU"
   },
   "source": [
    "### 1/ LogisticRegression"
   ]
  },
  {
   "cell_type": "code",
   "execution_count": 30,
   "metadata": {
    "id": "_aGmpORIQnNV",
    "outputId": "606a6a47-f92c-4de6-eabc-0b9f4a4f108f"
   },
   "outputs": [
    {
     "data": {
      "text/plain": [
       "LogisticRegression()"
      ]
     },
     "execution_count": 30,
     "metadata": {},
     "output_type": "execute_result"
    }
   ],
   "source": [
    "from sklearn.linear_model import LogisticRegression   # Importation de la classe LogisticRegression de scikit-learn\n",
    "\n",
    "# Initialisation d'un modèle de régression logistique\n",
    "lr = LogisticRegression()\n",
    "\n",
    "# Entraînement du modèle de régression logistique sur les données d'entraînement normalisées\n",
    "lr.fit(x_train_sc, y_train)"
   ]
  },
  {
   "cell_type": "code",
   "execution_count": 31,
   "metadata": {
    "id": "R7VJ0YCSQnNV",
    "outputId": "a8984e9b-ad1f-4fb7-ae6e-71f079a8facb"
   },
   "outputs": [
    {
     "name": "stdout",
     "output_type": "stream",
     "text": [
      "[[-0.295103    4.946123   -0.30002313  0.50780268 -0.59572417 -0.03865404\n",
      "  -1.03970923  0.11178392  0.82691298  0.08263749 -0.51330126]]\n"
     ]
    }
   ],
   "source": [
    "# Afficher les coefficients de régression logistique\n",
    "print(lr.coef_)"
   ]
  },
  {
   "cell_type": "code",
   "execution_count": 32,
   "metadata": {
    "id": "OYv-9oT2QnNV",
    "outputId": "7955c9b1-04fe-457f-c989-014a57f69a62"
   },
   "outputs": [
    {
     "name": "stdout",
     "output_type": "stream",
     "text": [
      "[-2.19094814]\n"
     ]
    }
   ],
   "source": [
    "# Afficher le terme d'interception de la régression logistique\n",
    "print(lr.intercept_)"
   ]
  },
  {
   "cell_type": "code",
   "execution_count": 33,
   "metadata": {
    "id": "Ke1IQcPpQnNW",
    "outputId": "c76c339c-62ec-4645-a2d5-3810f5c9c8a7"
   },
   "outputs": [
    {
     "name": "stdout",
     "output_type": "stream",
     "text": [
      "Coefficient de la première variable d'entrée : -0.29510300238144604\n"
     ]
    }
   ],
   "source": [
    "# Accéder au coefficient associé à la première variable d'entrée\n",
    "coef_first_variable = lr.coef_[0][0]\n",
    "\n",
    "# Afficher le coefficient\n",
    "print(\"Coefficient de la première variable d'entrée :\", coef_first_variable)"
   ]
  },
  {
   "cell_type": "code",
   "execution_count": 34,
   "metadata": {
    "id": "2-8HhPNGQnNW",
    "outputId": "fc79fb50-86ab-4762-90e4-6c80bfe44262"
   },
   "outputs": [
    {
     "name": "stdout",
     "output_type": "stream",
     "text": [
      "[[0.96951151 0.03048849]\n",
      " [0.80698766 0.19301234]\n",
      " [0.70252149 0.29747851]\n",
      " [0.51234017 0.48765983]\n",
      " [0.9182608  0.0817392 ]]\n"
     ]
    }
   ],
   "source": [
    "# Prédire les probabilités pour chaque classe pour les échantillons de test\n",
    "proba_predictions = lr.predict_proba(x_test_sc)\n",
    "\n",
    "# Afficher les probabilités prédites pour les premiers échantillons de test\n",
    "print(proba_predictions[:5])  # Affiche les probabilités des cinq premiers échantillons"
   ]
  },
  {
   "cell_type": "code",
   "execution_count": 35,
   "metadata": {
    "id": "IbfR7ihLQnNW"
   },
   "outputs": [
    {
     "name": "stdout",
     "output_type": "stream",
     "text": [
      "[0.03048849 0.19301234 0.29747851 0.48765983 0.0817392 ]\n"
     ]
    }
   ],
   "source": [
    "# Prédire les probabilités pour la classe positive (classe 1) pour les échantillons de test\n",
    "y_test_pred_prob = lr.predict_proba(x_test_sc)[:, 1]\n",
    "\n",
    "# Afficher les probabilités prédites pour les premiers échantillons de test\n",
    "print(y_test_pred_prob[:5])  # Affiche les probabilités des cinq premiers échantillons"
   ]
  },
  {
   "cell_type": "code",
   "execution_count": 36,
   "metadata": {
    "id": "CbgZ9RsJQnNX"
   },
   "outputs": [
    {
     "data": {
      "text/plain": [
       "array([0, 0, 0, 0, 0], dtype=int64)"
      ]
     },
     "execution_count": 36,
     "metadata": {},
     "output_type": "execute_result"
    }
   ],
   "source": [
    "y_pred_lr = lr.predict(x_test_sc)\n",
    "# Afficher les prédictions pour les premiers échantillons de test\n",
    "y_pred_lr[:5] # Affiche les prédictions des cinq premiers échantillons"
   ]
  },
  {
   "cell_type": "code",
   "execution_count": 37,
   "metadata": {
    "id": "GYtk10FWQnNX",
    "outputId": "b3ba7bd3-8e67-463c-a93d-f9503d4311a6"
   },
   "outputs": [
    {
     "name": "stdout",
     "output_type": "stream",
     "text": [
      "Probabilité d'appartenance à la classe 1 pour le premier échantillon de test : [0.03048849]\n"
     ]
    }
   ],
   "source": [
    "# Calcul de la somme pondérée des caractéristiques du premier échantillon de test avec les coefficients du modèle\n",
    "zx = lr.intercept_ + x_test_sc[0, :].dot(lr.coef_[0, :])\n",
    "\n",
    "# Application de la fonction sigmoïde pour obtenir la probabilité d'appartenance à la classe 1\n",
    "sig = 1 / (1 + np.exp(-zx))\n",
    "\n",
    "# Affichage de la probabilité calculée\n",
    "print(\"Probabilité d'appartenance à la classe 1 pour le premier échantillon de test :\", sig)"
   ]
  },
  {
   "cell_type": "code",
   "execution_count": 38,
   "metadata": {
    "id": "aufAtWUNQnNX",
    "outputId": "fafa2505-f094-429e-8865-5bdc8b1403ac"
   },
   "outputs": [
    {
     "name": "stdout",
     "output_type": "stream",
     "text": [
      "Probabilité d'appartenance à la classe 1 pour le deuxième échantillon de test : [0.19301234]\n"
     ]
    }
   ],
   "source": [
    "# Calcul de la somme pondérée des caractéristiques du deuxième échantillon de test avec les coefficients du modèle\n",
    "zx1 = lr.intercept_ + x_test_sc[1, :].dot(lr.coef_[0, :])\n",
    "\n",
    "# Application de la fonction sigmoïde pour obtenir la probabilité d'appartenance à la classe 1\n",
    "sig1 = 1 / (1 + np.exp(-zx1))\n",
    "\n",
    "# Affichage de la probabilité calculée pour le deuxième échantillon de test\n",
    "print(\"Probabilité d'appartenance à la classe 1 pour le deuxième échantillon de test :\", sig1)\n"
   ]
  },
  {
   "cell_type": "markdown",
   "metadata": {
    "id": "CZSwFGmhQnNX"
   },
   "source": [
    "## Evaluation du modéle"
   ]
  },
  {
   "cell_type": "code",
   "execution_count": 39,
   "metadata": {
    "id": "CXCGkhyvQnNY"
   },
   "outputs": [],
   "source": [
    "from sklearn.metrics import (\n",
    "    confusion_matrix,       # Importation de la fonction confusion_matrix pour évaluer les performances du modèle\n",
    "    accuracy_score,         # Importation de la fonction accuracy_score pour calculer le score d'exactitude\n",
    "    precision_score,        # Importation de la fonction precision_score pour calculer la précision\n",
    "    recall_score,           # Importation de la fonction recall_score pour calculer le rappel\n",
    "    classification_report   # Importation de la fonction classification_report pour afficher un rapport de classification\n",
    ")"
   ]
  },
  {
   "cell_type": "code",
   "execution_count": 40,
   "metadata": {
    "id": "-0Zscf3XQnNY",
    "outputId": "f5232143-773b-430d-b29a-ff145bf15bb7"
   },
   "outputs": [
    {
     "name": "stdout",
     "output_type": "stream",
     "text": [
      "[[1565   36]\n",
      " [ 301   84]]\n"
     ]
    }
   ],
   "source": [
    "# Afficher la matrice de confusion\n",
    "print(confusion_matrix(y_test, y_pred_lr))"
   ]
  },
  {
   "cell_type": "code",
   "execution_count": 41,
   "metadata": {
    "id": "iB7NqXHfQnNY",
    "outputId": "29e00edb-85a4-4e27-d0f2-b66b52be39f0"
   },
   "outputs": [
    {
     "name": "stdout",
     "output_type": "stream",
     "text": [
      "Accuracy score: 0.830\n",
      "Precision score: 0.700\n",
      "Recall score: 0.218\n"
     ]
    }
   ],
   "source": [
    "# Afficher le score d'exactitude\n",
    "print('Accuracy score: {0:.3f}'.format(accuracy_score(y_test, y_pred_lr)))\n",
    "\n",
    "# Afficher le score de précision\n",
    "print('Precision score: {0:.3f}'.format(precision_score(y_test, y_pred_lr)))\n",
    "\n",
    "# Afficher le score de rappel\n",
    "print('Recall score: {0:.3f}'.format(recall_score(y_test, y_pred_lr)))"
   ]
  },
  {
   "cell_type": "code",
   "execution_count": 42,
   "metadata": {
    "id": "hjVkz0R_QnNY",
    "outputId": "0d52d889-0d69-4d5f-fc7a-d8e1b02ecb3e"
   },
   "outputs": [
    {
     "name": "stdout",
     "output_type": "stream",
     "text": [
      "Confusion matrix:\n",
      "\n",
      "[[1565   36]\n",
      " [ 301   84]]\n",
      "Accuracy score: 0.830\n",
      "Precision score: 0.700\n",
      "Recall score: 0.218\n"
     ]
    }
   ],
   "source": [
    "# Afficher la matrice de confusion\n",
    "print('Confusion matrix:\\n')\n",
    "print(confusion_matrix(y_test, y_pred_lr))\n",
    "\n",
    "# Afficher le score d'exactitude\n",
    "print('Accuracy score: {0:.3f}'.format(accuracy_score(y_test, y_pred_lr)))\n",
    "\n",
    "# Afficher le score de précision\n",
    "print('Precision score: {0:.3f}'.format(precision_score(y_test, y_pred_lr)))\n",
    "\n",
    "# Afficher le score de rappel\n",
    "print('Recall score: {0:.3f}'.format(recall_score(y_test, y_pred_lr)))"
   ]
  },
  {
   "cell_type": "code",
   "execution_count": 43,
   "metadata": {
    "id": "JYj36axTQnNY",
    "outputId": "1bfb8110-2912-4e2f-be81-11af21228a14"
   },
   "outputs": [
    {
     "name": "stdout",
     "output_type": "stream",
     "text": [
      "              precision    recall  f1-score   support\n",
      "\n",
      "           0       0.84      0.98      0.90      1601\n",
      "           1       0.70      0.22      0.33       385\n",
      "\n",
      "    accuracy                           0.83      1986\n",
      "   macro avg       0.77      0.60      0.62      1986\n",
      "weighted avg       0.81      0.83      0.79      1986\n",
      "\n"
     ]
    }
   ],
   "source": [
    "# Afficher le rapport de classification\n",
    "print(classification_report(y_test, y_pred_lr))"
   ]
  },
  {
   "cell_type": "markdown",
   "metadata": {
    "id": "1bUYHX_sQnNY"
   },
   "source": [
    "## Courbe ROC  LR"
   ]
  },
  {
   "cell_type": "code",
   "execution_count": 44,
   "metadata": {
    "id": "1Vao3kxNQnNZ"
   },
   "outputs": [],
   "source": [
    "# Importation des fonctions d'évaluation des performances des modèles\n",
    "from sklearn import metrics"
   ]
  },
  {
   "cell_type": "code",
   "execution_count": 45,
   "metadata": {
    "id": "b_OwQbLnQnNZ",
    "outputId": "080e1312-ea22-4a91-9604-cfa34bef5226"
   },
   "outputs": [
    {
     "data": {
      "image/png": "[encoded data removed]",
      "text/plain": [
       "<Figure size 432x288 with 1 Axes>"
      ]
     },
     "metadata": {},
     "output_type": "display_data"
    }
   ],
   "source": [
    "# Calcul des taux de faux positifs (fpr), des taux de vrais positifs (tpr) et des seuils de décision (thr)\n",
    "fpr, tpr, thr = metrics.roc_curve(y_test, y_pred_lr)\n",
    "\n",
    "# Affichage des taux de faux positifs (fpr) en fonction des taux de vrais positifs (tpr)\n",
    "plt.plot(fpr, tpr)\n",
    "plt.xlabel('Taux de faux positifs (FPR)')\n",
    "plt.ylabel('Taux de vrais positifs (TPR)')\n",
    "plt.title('Courbe ROC')\n",
    "plt.show()"
   ]
  },
  {
   "cell_type": "code",
   "execution_count": 46,
   "metadata": {
    "id": "nI4u84j8QnNZ",
    "outputId": "fc5b399b-5363-4393-b221-ce00dff104ad"
   },
   "outputs": [
    {
     "data": {
      "image/png": "[encoded data removed]",
      "text/plain": [
       "<Figure size 432x288 with 1 Axes>"
      ]
     },
     "metadata": {},
     "output_type": "display_data"
    }
   ],
   "source": [
    "# Calculer les probabilités prédites pour la classe positive\n",
    "y_test_pred_prob = lr.predict_proba(x_test_sc)[:, 1]\n",
    "\n",
    "# Calculer les taux de faux positifs (fpr), les taux de vrais positifs (tpr) et les seuils de décision (thr)\n",
    "fpr1, tpr1, thr1 = metrics.roc_curve(y_test, y_test_pred_prob)\n",
    "\n",
    "# Afficher la courbe ROC\n",
    "plt.plot(fpr1, tpr1)\n",
    "plt.xlabel('Taux de faux positifs (FPR)')\n",
    "plt.ylabel('Taux de vrais positifs (TPR)')\n",
    "plt.title('Courbe ROC')\n",
    "plt.show()"
   ]
  },
  {
   "cell_type": "code",
   "execution_count": 47,
   "metadata": {
    "id": "vBVWyoebQnNZ",
    "outputId": "d2af7cff-be98-4e6f-970f-6308ff65a561"
   },
   "outputs": [
    {
     "name": "stdout",
     "output_type": "stream",
     "text": [
      "Forme de thr1 : (491,)\n"
     ]
    }
   ],
   "source": [
    "# Afficher la forme de thr1\n",
    "print(\"Forme de thr1 :\", thr1.shape)"
   ]
  },
  {
   "cell_type": "code",
   "execution_count": 48,
   "metadata": {
    "id": "Gb3kGuJxQnNZ"
   },
   "outputs": [],
   "source": [
    "from numpy import argmax"
   ]
  },
  {
   "cell_type": "code",
   "execution_count": 49,
   "metadata": {
    "id": "-eB8dXQRQnNZ"
   },
   "outputs": [],
   "source": [
    "# Calculer la mesure de Youden\n",
    "best = tpr1 - fpr1\n",
    "\n",
    "# Trouver l'indice correspondant au meilleur seuil (maximum de la mesure de Youden)\n",
    "ix = argmax(best)"
   ]
  },
  {
   "cell_type": "code",
   "execution_count": 50,
   "metadata": {
    "id": "-XcRbN57QnNa",
    "outputId": "baf63ffa-0efb-41ad-f491-3f5aab3e2e5a"
   },
   "outputs": [
    {
     "name": "stdout",
     "output_type": "stream",
     "text": [
      "Indice du seuil de décision optimal : 325\n"
     ]
    }
   ],
   "source": [
    "# Afficher l'indice du seuil de décision optimal\n",
    "print(\"Indice du seuil de décision optimal :\", ix)"
   ]
  },
  {
   "cell_type": "code",
   "execution_count": 51,
   "metadata": {
    "id": "qQYopDHxQnNa"
   },
   "outputs": [
    {
     "name": "stdout",
     "output_type": "stream",
     "text": [
      "Seuil de décision optimal : 0.17977418168128015\n"
     ]
    }
   ],
   "source": [
    "# Extraire le seuil de décision optimal à partir du tableau des seuils (thr1)\n",
    "best_thr = thr1[ix]\n",
    "\n",
    "# Afficher le seuil de décision optimal\n",
    "print(\"Seuil de décision optimal :\", best_thr)"
   ]
  },
  {
   "cell_type": "code",
   "execution_count": 52,
   "metadata": {
    "id": "Vx8GeussQnNa",
    "outputId": "8d13e395-2850-4edb-e89a-78e298fa87a6"
   },
   "outputs": [
    {
     "data": {
      "text/plain": [
       "0.7558441558441559"
      ]
     },
     "execution_count": 52,
     "metadata": {},
     "output_type": "execute_result"
    }
   ],
   "source": [
    "tpr1[ix]"
   ]
  },
  {
   "cell_type": "code",
   "execution_count": 53,
   "metadata": {
    "id": "eCKJB5QIQnNa",
    "outputId": "51e20a2c-990d-4c2c-923d-b460854da40a"
   },
   "outputs": [
    {
     "data": {
      "text/plain": [
       "0.3310430980637102"
      ]
     },
     "execution_count": 53,
     "metadata": {},
     "output_type": "execute_result"
    }
   ],
   "source": [
    "fpr1[ix]"
   ]
  },
  {
   "cell_type": "code",
   "execution_count": 54,
   "metadata": {
    "id": "avmOkitKQnNb"
   },
   "outputs": [],
   "source": [
    "best_thr = thr1[197]"
   ]
  },
  {
   "cell_type": "code",
   "execution_count": 55,
   "metadata": {
    "id": "bElFdnXdQnNb",
    "outputId": "ff1504ab-90a0-4c79-c3c9-330f18d75955"
   },
   "outputs": [
    {
     "data": {
      "text/plain": [
       "0.28766691709117914"
      ]
     },
     "execution_count": 55,
     "metadata": {},
     "output_type": "execute_result"
    }
   ],
   "source": [
    "best_thr"
   ]
  },
  {
   "cell_type": "code",
   "execution_count": 56,
   "metadata": {
    "id": "H_-B_EKJQnNb",
    "outputId": "b42fd3e1-3dcb-4a04-8cb0-54dc2d70ec46"
   },
   "outputs": [
    {
     "data": {
      "text/plain": [
       "0.5532467532467532"
      ]
     },
     "execution_count": 56,
     "metadata": {},
     "output_type": "execute_result"
    }
   ],
   "source": [
    "tpr1[197]"
   ]
  },
  {
   "cell_type": "code",
   "execution_count": 57,
   "metadata": {
    "id": "TnYlgnmQQnNb",
    "outputId": "13765d9f-54a0-4239-a8fb-a3e655c923d1"
   },
   "outputs": [
    {
     "data": {
      "text/plain": [
       "0.14553404122423486"
      ]
     },
     "execution_count": 57,
     "metadata": {},
     "output_type": "execute_result"
    }
   ],
   "source": [
    "fpr1[197]"
   ]
  },
  {
   "cell_type": "code",
   "execution_count": 58,
   "metadata": {
    "id": "R_Vb7QITQnNb",
    "outputId": "9d2b2190-366a-4d59-ef47-768fbb39cc05"
   },
   "outputs": [
    {
     "data": {
      "text/plain": [
       "0.4248010577804457"
      ]
     },
     "execution_count": 58,
     "metadata": {},
     "output_type": "execute_result"
    }
   ],
   "source": [
    "tpr1[ix]-fpr1[ix]"
   ]
  },
  {
   "cell_type": "code",
   "execution_count": 59,
   "metadata": {
    "id": "OOxlHZRvQnNc",
    "outputId": "e3396bcd-166b-4c87-d003-7dfc334e138e"
   },
   "outputs": [
    {
     "data": {
      "text/plain": [
       "0.40771271202251835"
      ]
     },
     "execution_count": 59,
     "metadata": {},
     "output_type": "execute_result"
    }
   ],
   "source": [
    "tpr1[197]-fpr1[197]"
   ]
  },
  {
   "cell_type": "code",
   "execution_count": 60,
   "metadata": {
    "id": "gAoXkN6AQnNc",
    "outputId": "2305ed67-d15d-4188-b343-6e2bf19e0fa1"
   },
   "outputs": [
    {
     "data": {
      "text/plain": [
       "0.7558441558441559"
      ]
     },
     "execution_count": 60,
     "metadata": {},
     "output_type": "execute_result"
    }
   ],
   "source": [
    "tpr1[ix]"
   ]
  },
  {
   "cell_type": "code",
   "execution_count": 61,
   "metadata": {
    "id": "OZrQCe6YQnNc",
    "outputId": "a5093f93-413f-4286-e28e-9b96557c5fa0"
   },
   "outputs": [
    {
     "data": {
      "text/plain": [
       "0.3310430980637102"
      ]
     },
     "execution_count": 61,
     "metadata": {},
     "output_type": "execute_result"
    }
   ],
   "source": [
    "fpr1[ix]"
   ]
  },
  {
   "cell_type": "markdown",
   "metadata": {
    "id": "v3tn1Z9kQnNc"
   },
   "source": [
    "## 2/ KNN"
   ]
  },
  {
   "cell_type": "code",
   "execution_count": 62,
   "metadata": {
    "id": "N44x67KdQnNc"
   },
   "outputs": [],
   "source": [
    "from sklearn.neighbors import KNeighborsClassifier"
   ]
  },
  {
   "cell_type": "code",
   "execution_count": 63,
   "metadata": {
    "id": "YrxlV6VLQnNc"
   },
   "outputs": [],
   "source": [
    "# Création d'un classificateur KNN (K-Nearest Neighbors) avec 5 voisins\n",
    "knn = KNeighborsClassifier(n_neighbors = 5)"
   ]
  },
  {
   "cell_type": "code",
   "execution_count": 64,
   "metadata": {
    "id": "WYbA6HJ9QnNd",
    "outputId": "930772e5-645f-426d-fde9-fb9029f22d00"
   },
   "outputs": [
    {
     "data": {
      "text/plain": [
       "KNeighborsClassifier()"
      ]
     },
     "execution_count": 64,
     "metadata": {},
     "output_type": "execute_result"
    }
   ],
   "source": [
    "# Entraînement du classificateur KNN sur les données d'entraînement normalisées\n",
    "knn.fit(x_train_sc, y_train)"
   ]
  },
  {
   "cell_type": "code",
   "execution_count": 65,
   "metadata": {
    "id": "QgyXYxWLQnNd"
   },
   "outputs": [],
   "source": [
    "# Prédiction des étiquettes de classe pour les données de test normalisées\n",
    "y_pred_knn = knn.predict(x_test_sc)"
   ]
  },
  {
   "cell_type": "code",
   "execution_count": 66,
   "metadata": {
    "id": "9rKolyYZQnNd",
    "outputId": "6012422e-8d7e-4589-ec47-d8649f3565f2"
   },
   "outputs": [
    {
     "name": "stdout",
     "output_type": "stream",
     "text": [
      "[[1504   97]\n",
      " [ 252  133]]\n"
     ]
    }
   ],
   "source": [
    "# Affichage de la matrice de confusion pour évaluer les performances du modèle KNN\n",
    "print(confusion_matrix(y_test, y_pred_knn))"
   ]
  },
  {
   "cell_type": "code",
   "execution_count": 67,
   "metadata": {
    "id": "jy6FDkWFQnNd",
    "outputId": "204fdea6-6d61-40b2-cb5a-8780d103df88"
   },
   "outputs": [
    {
     "name": "stdout",
     "output_type": "stream",
     "text": [
      "Accuracy score0.824\n",
      "Precision score0.578\n",
      "Recall score0.345\n"
     ]
    }
   ],
   "source": [
    "print('Accuracy score{0:.3f}'.format(accuracy_score(y_test,y_pred_knn)))\n",
    "print('Precision score{0:.3f}'.format(precision_score(y_test,y_pred_knn)))\n",
    "print('Recall score{0:.3f}'.format(recall_score(y_test,y_pred_knn)))"
   ]
  },
  {
   "cell_type": "code",
   "execution_count": 68,
   "metadata": {
    "id": "dv733hEaQnNd",
    "outputId": "ad827f57-c4ad-4271-b3e5-f934b3c12af7"
   },
   "outputs": [
    {
     "name": "stdout",
     "output_type": "stream",
     "text": [
      "              precision    recall  f1-score   support\n",
      "\n",
      "           0       0.86      0.94      0.90      1601\n",
      "           1       0.58      0.35      0.43       385\n",
      "\n",
      "    accuracy                           0.82      1986\n",
      "   macro avg       0.72      0.64      0.66      1986\n",
      "weighted avg       0.80      0.82      0.81      1986\n",
      "\n"
     ]
    }
   ],
   "source": [
    "# Affichage d'un rapport de classification détaillé pour évaluer les performances du modèle KNN\n",
    "print(classification_report(y_test, y_pred_knn))"
   ]
  },
  {
   "cell_type": "code",
   "execution_count": 69,
   "metadata": {
    "id": "GLeDNUG2QnNd"
   },
   "outputs": [],
   "source": [
    "# Importation de la classe GridSearchCV pour l'optimisation des hyperparamètres\n",
    "from sklearn.model_selection import GridSearchCV"
   ]
  },
  {
   "cell_type": "code",
   "execution_count": 70,
   "metadata": {},
   "outputs": [],
   "source": [
    "# Grille de paramètres à rechercher pour le nombre de voisins\n",
    "parameters = {'n_neighbors':[1,3,5,7,9,11,13,15]}\n",
    "\n",
    "# Création d'un modèle KNN de base\n",
    "model = KNeighborsClassifier()\n",
    "\n",
    "# Création d'un objet GridSearchCV pour rechercher les meilleurs hyperparamètres\n",
    "clf = GridSearchCV(model, parameters, scoring='accuracy', cv=5)\n",
    "\n",
    "# Recherche des meilleurs hyperparamètres en ajustant la grille aux données d'entraînement normalisées\n",
    "grille = clf.fit(x_train_sc, y_train)"
   ]
  },
  {
   "cell_type": "code",
   "execution_count": 71,
   "metadata": {},
   "outputs": [
    {
     "name": "stdout",
     "output_type": "stream",
     "text": [
      "{'n_neighbors': 7}\n",
      "0.8187657430730478\n"
     ]
    }
   ],
   "source": [
    "print(grille.best_params_)\n",
    "print(grille.best_score_)"
   ]
  },
  {
   "cell_type": "markdown",
   "metadata": {},
   "source": [
    "## Courbe ROC KNN"
   ]
  },
  {
   "cell_type": "code",
   "execution_count": 72,
   "metadata": {},
   "outputs": [
    {
     "name": "stdout",
     "output_type": "stream",
     "text": [
      "[0.         0.06058713 1.        ] [0.         0.34545455 1.        ] [2 1 0]\n"
     ]
    },
    {
     "data": {
      "text/plain": [
       "[<matplotlib.lines.Line2D at 0x18eada56be0>]"
      ]
     },
     "execution_count": 72,
     "metadata": {},
     "output_type": "execute_result"
    },
    {
     "data": {
      "image/png": "[encoded data removed]",
      "text/plain": [
       "<Figure size 432x288 with 1 Axes>"
      ]
     },
     "metadata": {},
     "output_type": "display_data"
    }
   ],
   "source": [
    "# Calcul des taux de faux positifs (fprk), des taux de vrais positifs (tprk) et des seuils (thrk) pour le modèle KNN\n",
    "fprk , tprk , thrk = metrics.roc_curve(y_test , y_pred_knn)\n",
    "\n",
    "# Affichage des taux de faux positifs, des taux de vrais positifs et des seuils\n",
    "print(fprk , tprk , thrk)\n",
    "\n",
    "# Tracé de la courbe ROC pour le modèle KNN\n",
    "plt.plot(fprk , tprk )"
   ]
  },
  {
   "cell_type": "markdown",
   "metadata": {},
   "source": [
    "## 3/ Comparaison de courbe ROC de Logistic Regression et celle de KNN"
   ]
  },
  {
   "cell_type": "code",
   "execution_count": 73,
   "metadata": {},
   "outputs": [
    {
     "data": {
      "text/plain": [
       "<matplotlib.legend.Legend at 0x18eada71f10>"
      ]
     },
     "execution_count": 73,
     "metadata": {},
     "output_type": "execute_result"
    },
    {
     "data": {
      "image/png": "[encoded data removed]",
      "text/plain": [
       "<Figure size 432x288 with 1 Axes>"
      ]
     },
     "metadata": {},
     "output_type": "display_data"
    }
   ],
   "source": [
    "# Calcul des taux de faux positifs (fpr), des taux de vrais positifs (tpr) et des seuils (thr) pour le modèle lr\n",
    "fpr , tpr , thr = metrics.roc_curve(y_test , y_pred_lr)\n",
    "# Affichage de la courbe ROC pour le modèle lr\n",
    "plt.plot(fpr , tpr, label='Courbe ROC LR')\n",
    "\n",
    "# Calcul des taux de faux positifs (fprk), des taux de vrais positifs (tprk) et des seuils (thrk) pour le modèle KNN\n",
    "fprk, tprk, thrk,=metrics.roc_curve(y_test, y_pred_knn)\n",
    "# Affichage de la courbe ROC pour le modèle KNN\n",
    "plt.plot(fprk,tprk , label='Courbe ROC KNN')\n",
    "\n",
    "# Ajout de la légende au graphique pour indiquer quel modèle correspond à chaque courbe\n",
    "plt.legend()"
   ]
  },
  {
   "cell_type": "raw",
   "metadata": {},
   "source": [
    "La courbe ROC (Receiver Operating Characteristic) pour le modèle KNN (K-Nearest Neighbors) est plus proche de l'axe des ordonnées (AUC plus proche de 1) que la courbe ROC pour le modèle lr (régression logistique), ce qui indique une meilleure performance de prédiction pour le modèle KNN par rapport au modèle lr."
   ]
  }
 ],
 "metadata": {
  "colab": {
   "provenance": []
  },
  "kernelspec": {
   "display_name": "Python 3 (ipykernel)",
   "language": "python",
   "name": "python3"
  },
  "language_info": {
   "codemirror_mode": {
    "name": "ipython",
    "version": 3
   },
   "file_extension": ".py",
   "mimetype": "text/x-python",
   "name": "python",
   "nbconvert_exporter": "python",
   "pygments_lexer": "ipython3",
   "version": "3.9.7"
  }
 },
 "nbformat": 4,
 "nbformat_minor": 1
}
